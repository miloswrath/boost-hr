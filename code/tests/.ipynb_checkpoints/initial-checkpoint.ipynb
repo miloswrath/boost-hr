{
 "cells": [
  {
   "cell_type": "markdown",
   "id": "f0854ed9-e3b8-4612-9ed2-deb0b3682847",
   "metadata": {},
   "source": [
    "# initial review of polar hr csv files"
   ]
  },
  {
   "cell_type": "code",
   "execution_count": null,
   "id": "54b9f1a9-011b-4a68-a986-813f30d26d7e",
   "metadata": {},
   "outputs": [],
   "source": [
    "import pandas as pd\n",
    "import numpy as np"
   ]
  },
  {
   "cell_type": "code",
   "execution_count": null,
   "id": "3d09db14-bcdd-4067-9909-1a846ee39ab3",
   "metadata": {},
   "outputs": [],
   "source": [
    "sup_8002 = pd.read_csv('/mnt/lss/Projects/BOOST/InterventionStudy/3-experiment/data/polarhrcsv/Supervised/sub8002/8002_wk1_ses1.CSV', skiprows=2, header=0)\n",
    "sup_8002.head()"
   ]
  },
  {
   "cell_type": "code",
   "execution_count": null,
   "id": "6ddd5e82-2d86-4eeb-a9fe-bce79738551f",
   "metadata": {},
   "outputs": [],
   "source": [
    "len(sup_8002)"
   ]
  },
  {
   "cell_type": "code",
   "execution_count": null,
   "id": "e593147f-188d-43d5-aa0e-9fdaafad97d6",
   "metadata": {},
   "outputs": [],
   "source": [
    "sup_8002 = sup_8002[['Time', 'HR (bpm)']]\n",
    "sup_8002 = sup_8002.rename(columns = {\n",
    "    'Time':'dt',\n",
    "    'HR (bpm)':'hr'})"
   ]
  },
  {
   "cell_type": "code",
   "execution_count": null,
   "id": "7f3e383b-6f82-4e7e-bd75-7ad01e200c41",
   "metadata": {},
   "outputs": [],
   "source": [
    "zones = pd.read_excel('/mnt/lss/Projects/BOOST/InterventionStudy/1-projectManagement/participants/ExerciseSessionMaterials/Intervention Materials/BOOST HR ranges.xlsx')"
   ]
  },
  {
   "cell_type": "code",
   "execution_count": null,
   "id": "57e63a27-1f8c-4ec0-be55-e06a4e0bee72",
   "metadata": {},
   "outputs": [],
   "source": [
    "cols_to_keep = [0] + list(range(3,15))\n",
    "zones = zones.iloc[:, cols_to_keep]\n",
    "zones"
   ]
  },
  {
   "cell_type": "code",
   "execution_count": null,
   "id": "d0fc0447-f19e-4628-9bd3-a67522585e9d",
   "metadata": {},
   "outputs": [],
   "source": [
    "zones_8002 = zones[zones['BOOST ID']==8002]\n",
    "zones_8002.to_clipboard()"
   ]
  },
  {
   "cell_type": "code",
   "execution_count": null,
   "id": "39e42cbb-285a-4f33-a37d-6f412c9a648d",
   "metadata": {},
   "outputs": [],
   "source": [
    "# Extract raw zone values for BOOST ID 8002\n",
    "z = zones[zones['BOOST ID'] == 8002]\n",
    "\n",
    "# Floor and ceil to get full integer coverage\n",
    "zone_bounds = [\n",
    "    (np.floor(z['Zone 1 (55-60%)'].values[0]), np.ceil(z['Unnamed: 6'].values[0]) - 1),\n",
    "    (np.floor(z['Zone 2 (60-65%)'].values[0]), np.ceil(z['Unnamed: 8'].values[0]) - 1),\n",
    "    (np.floor(z['Zone 3 (65-70%)'].values[0]), np.ceil(z['Unnamed: 10'].values[0]) - 1),\n",
    "    (np.floor(z['Zone 4 (70-75%)'].values[0]), np.ceil(z['Unnamed: 12'].values[0]) - 1),\n",
    "    (np.floor(z['Zone 5 (75-80%)'].values[0]), np.ceil(z['Unnamed: 14'].values[0]) - 1),\n",
    "]\n"
   ]
  },
  {
   "cell_type": "code",
   "execution_count": null,
   "id": "1bcf5eb9-4a51-4822-bafb-050d3ae73fc3",
   "metadata": {},
   "outputs": [],
   "source": [
    "zone_bounds"
   ]
  },
  {
   "cell_type": "code",
   "execution_count": null,
   "id": "88cf4090-13ac-47f7-8be2-f25f8b3470af",
   "metadata": {},
   "outputs": [],
   "source": [
    "# Verify that intervals are continuous and non-overlapping\n",
    "for i in range(1, len(zone_bounds)):\n",
    "    prev_upper = zone_bounds[i-1][1]\n",
    "    curr_lower = zone_bounds[i][0]\n",
    "    if curr_lower != prev_upper + 1:\n",
    "        raise ValueError(f\"Gap or overlap detected between Zone {i} and Zone {i+1}\")\n"
   ]
  },
  {
   "cell_type": "code",
   "execution_count": null,
   "id": "142abfc9-59be-4661-aef0-2eecad82ffbb",
   "metadata": {},
   "outputs": [],
   "source": [
    "hr_values = sup_8002['hr'].values\n",
    "\n",
    "conditions = [\n",
    "    hr_values < zone_bounds[0][0],  # Zone 0\n",
    "]\n",
    "\n",
    "labels = ['Zone 0']\n",
    "\n",
    "# Add zones 1-5\n",
    "for i, (low, high) in enumerate(zone_bounds):\n",
    "    conditions.append((hr_values >= low) & (hr_values <= high))\n",
    "    labels.append(f'Zone {i+1}')\n",
    "\n",
    "# Zone 6 (above last zone)\n",
    "conditions.append(hr_values > zone_bounds[-1][1])\n",
    "labels.append('Zone 6')\n",
    "\n",
    "# Vectorized zone assignment\n",
    "sup_8002['Zone'] = np.select(conditions, labels, default='Unknown')\n"
   ]
  },
  {
   "cell_type": "code",
   "execution_count": null,
   "id": "e6b3c4e7-b8a7-42d9-be0e-7374f691f8d2",
   "metadata": {},
   "outputs": [],
   "source": [
    "time_in_zones = sup_8002['Zone'].value_counts().sort_index()\n",
    "\n",
    "# Display time in seconds\n",
    "print(time_in_zones)\n"
   ]
  },
  {
   "cell_type": "code",
   "execution_count": null,
   "id": "e638c252-1f11-478b-abd6-c269b557e23d",
   "metadata": {},
   "outputs": [],
   "source": [
    "import plotly.graph_objects as go\n",
    "import plotly.io as pio\n",
    "pio.renderers.default = \"iframe\"\n",
    "fig = go.Figure()\n",
    "\n",
    "# Add HR line\n",
    "fig.add_trace(go.Scatter(\n",
    "    x=sup_8002['dt'],\n",
    "    y=sup_8002['hr'],\n",
    "    mode='lines',\n",
    "    name='HR',\n",
    "    line=dict(color='gray', width=2)\n",
    "))\n",
    "\n",
    "# Add colored zone points\n",
    "fig.add_trace(go.Scatter(\n",
    "    x=sup_8002['dt'],\n",
    "    y=sup_8002['hr'],\n",
    "    mode='markers',\n",
    "    marker=dict(size=6, color=sup_8002['Zone'].astype('category').cat.codes, colorscale='Viridis'),\n",
    "    name='HR Zone'\n",
    "))\n",
    "\n",
    "fig.update_layout(\n",
    "    title='Heart Rate Over Time with Zones',\n",
    "    xaxis_title='Time',\n",
    "    yaxis_title='Heart Rate (bpm)'\n",
    ")\n",
    "\n",
    "fig.show()\n"
   ]
  },
  {
   "cell_type": "code",
   "execution_count": null,
   "id": "2e681f4d-64a7-42cb-96c7-04c91247b90c",
   "metadata": {},
   "outputs": [],
   "source": [
    "import plotly.io as pio\n",
    "print(pio.renderers)\n"
   ]
  },
  {
   "cell_type": "code",
   "execution_count": null,
   "id": "1ec22bc1-cf66-4318-90b8-ec98676e2d7a",
   "metadata": {},
   "outputs": [],
   "source": []
  }
 ],
 "metadata": {
  "kernelspec": {
   "display_name": "Python 3 (ipykernel)",
   "language": "python",
   "name": "python3"
  },
  "language_info": {
   "codemirror_mode": {
    "name": "ipython",
    "version": 3
   },
   "file_extension": ".py",
   "mimetype": "text/x-python",
   "name": "python",
   "nbconvert_exporter": "python",
   "pygments_lexer": "ipython3",
   "version": "3.13.5"
  }
 },
 "nbformat": 4,
 "nbformat_minor": 5
}
